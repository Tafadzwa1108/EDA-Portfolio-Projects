{
  "nbformat": 4,
  "nbformat_minor": 0,
  "metadata": {
    "colab": {
      "provenance": [],
      "toc_visible": true
    },
    "kernelspec": {
      "name": "python3",
      "display_name": "Python 3"
    },
    "language_info": {
      "name": "python"
    }
  },
  "cells": [
    {
      "cell_type": "markdown",
      "source": [
        "#Python Pandas Sales Analysis\n",
        "######by Tafadzwa Mary-Anne Chigwada\n",
        "\n",
        "\n"
      ],
      "metadata": {
        "id": "unewWUyrfxWh"
      }
    },
    {
      "cell_type": "code",
      "source": [],
      "metadata": {
        "id": "Hg5OJ1lnkzIo"
      },
      "execution_count": 229,
      "outputs": []
    },
    {
      "cell_type": "code",
      "source": [],
      "metadata": {
        "id": "r0EvJ9UNk7VH"
      },
      "execution_count": 229,
      "outputs": []
    },
    {
      "cell_type": "markdown",
      "source": [
        "## Analysis Questions \n",
        "1. What was the best and worst month for sales? How much was earned that month?\n",
        "2. Which Top 5 US Cities had the highest number Of Sales?\n",
        "3. What time should we display advertisements to maximize likelihood of customers buying products?\n",
        "4. Which Pair Of Products are most often sold together?\n",
        "5. Which 5 products sold the most? Why do you think it sold the most?"
      ],
      "metadata": {
        "id": "DL-iqFW4xcaL"
      }
    },
    {
      "cell_type": "markdown",
      "source": [
        "\n",
        "## Summary And Conclusion\n",
        "Insights :\n",
        "- December was the best months for sales with a total of 4,613,443.34 earned.\n",
        "- January was the worst month for sales with a total of 1,822,256.73 earned.\n",
        "\n",
        "\n",
        "- The Top 5 Cities with the most products sold are:\n",
        "      1. San Franciso, CA\n",
        "      2. Los Angeles, CA\n",
        "      3. New York City, NY\n",
        "      4. Boston, MA\n",
        "      5. Atlanta, GA\n",
        "\n",
        "- The peak Order Times are between 11am, 12pm and 7pm. Therefore these are the best times to advertize to maximize Purchase likelihood\n",
        "\n",
        "- The iPhone and Lightning Charging Cable the most sold pair of products with 1005 sales\n",
        "\n",
        "- The TOp 5 most selling products are;\n",
        "      1. AAA Batteries (4-pack) with 31017 sales\n",
        "      2. AA Batteries (4-pack) with 27635 sales\n",
        "      3. USB-C Charging Cable with 23975 sales\n",
        "      4. Lightning Charging Cable with 23217 sales\n",
        "      5. Wired Headphones with 20557 sales\n",
        "      - this trend is evidenced by the overlaid graph showing that, these products had the most sales because of the affordable price/\n",
        "  \n",
        "\n"
      ],
      "metadata": {
        "id": "6cD1jdCXsj4O"
      }
    },
    {
      "cell_type": "code",
      "source": [],
      "metadata": {
        "id": "D60R1Yx8s9aO"
      },
      "execution_count": 229,
      "outputs": []
    },
    {
      "cell_type": "code",
      "source": [],
      "metadata": {
        "id": "c74bQmedx96N"
      },
      "execution_count": 229,
      "outputs": []
    },
    {
      "cell_type": "markdown",
      "source": [
        "#Data Preparation And Cleaning\n",
        "\n",
        "    Importing necessary files\n",
        "    Merging the csv files into one csv file\n",
        "    Converting data to appropriate data types\n",
        "    Fix missing or incorrect values\n"
      ],
      "metadata": {
        "id": "6mE08pCkx-Za"
      }
    },
    {
      "cell_type": "code",
      "execution_count": 187,
      "metadata": {
        "id": "FWCI7ydsfVOk",
        "colab": {
          "base_uri": "https://localhost:8080/"
        },
        "outputId": "cf4bce39-dab6-4f48-b001-22675c269083"
      },
      "outputs": [
        {
          "output_type": "stream",
          "name": "stdout",
          "text": [
            "Drive already mounted at /content/drive; to attempt to forcibly remount, call drive.mount(\"/content/drive\", force_remount=True).\n"
          ]
        }
      ],
      "source": [
        "#importing necessary files\n",
        "import pandas as pd\n",
        "import matplotlib.pyplot as plt\n",
        "\n",
        "\n",
        "from itertools import combinations\n",
        "from collections import Counter\n",
        "\n",
        "\n",
        "#provides functions for creating and removing a directory (folder), fetching its contents, changing and identifying the current directory, etc.\n",
        "#It allows you to interact with the file system, for example, to create, rename, or delete files and directories, as well as to navigate the file system hierarchy.\n",
        "import os\n",
        "\n",
        "#allowing google colab to access google drive\n",
        "from google.colab import drive\n",
        "drive.mount('/content/drive')\n",
        "\n"
      ]
    },
    {
      "cell_type": "code",
      "source": [
        "#listing the files to merge\n",
        "files = [file for file in os.listdir('/content/drive/MyDrive/Data Analysis projects/Sales Analysis Pandas/Sales_Data')]\n",
        "\n",
        "for file in files :\n",
        "  print(file)"
      ],
      "metadata": {
        "id": "Y962833FjCiq",
        "colab": {
          "base_uri": "https://localhost:8080/"
        },
        "outputId": "2cdf799c-f665-4fef-886e-e31cfd9c91aa"
      },
      "execution_count": 63,
      "outputs": [
        {
          "output_type": "stream",
          "name": "stdout",
          "text": [
            "Sales_April_2019.csv\n",
            "Sales_March_2019.csv\n",
            "Sales_December_2019.csv\n",
            "Sales_October_2019.csv\n",
            "Sales_July_2019.csv\n",
            "Sales_November_2019.csv\n",
            "Sales_February_2019.csv\n",
            "Sales_August_2019.csv\n",
            "Sales_September_2019.csv\n",
            "Sales_May_2019.csv\n",
            "Sales_June_2019.csv\n",
            "Sales_January_2019.csv\n"
          ]
        }
      ]
    },
    {
      "cell_type": "code",
      "source": [],
      "metadata": {
        "id": "u4CBhH3Yuj3P"
      },
      "execution_count": 63,
      "outputs": []
    },
    {
      "cell_type": "code",
      "source": [
        "#Merging numerous sales data into a single csv file\n",
        "#this makes it easier to do more yearly analysis\n",
        "\n",
        "#creates an empty dataframe for all the months\n",
        "all_months_data = []\n",
        "\n",
        "#lists the path to all the csv files desired\n",
        "path = '/content/drive/MyDrive/Data Analysis projects/Sales Analysis Pandas/Sales_Data/'\n",
        "\n",
        "\n",
        "for file in os.listdir(path): # iterates through the filenames in the path specified. ie: Sales_April_2019.csv, Sales_March_2019.csv etc.\n",
        "  if file.endswith('.csv'): #checks if filename ends with .csv tp avoid errors\n",
        "\n",
        "      #adds the path of the file to the filename to get a full file path. ie: '/content/drive/MyDrive/Data Analysis projects/Sales Analysis Pandas/Sales_Data/Sales_April_2019.csv'\n",
        "        all_months_data.append(pd.read_csv(os.path.join(path, file)))\n",
        "#concatenates all the files specified in the full path.\n",
        "#rows of file 1 appear first, followed by rows of file 2 etc\n",
        "#saves the concationation of all the files to the all_months_data variable\n",
        "all_months_data = pd.concat(all_months_data)\n",
        "\n",
        "#So, in summary, this line of code writes the contents of the all_months_data DataFrame to a CSV file named 'combined.csv' in the current working directory.\n",
        "all_months_data.to_csv('all_data.csv', index=False)\n",
        "\n",
        "    \n",
        "    \n"
      ],
      "metadata": {
        "id": "YRFFa9U4fw4W"
      },
      "execution_count": 64,
      "outputs": []
    },
    {
      "cell_type": "code",
      "source": [
        "#read In updated dataframe\n",
        "all_data = pd.read_csv(\"all_data.csv\")"
      ],
      "metadata": {
        "id": "jkcoZfzNj0jb"
      },
      "execution_count": 65,
      "outputs": []
    },
    {
      "cell_type": "code",
      "source": [],
      "metadata": {
        "id": "1k0orx2L_sIb"
      },
      "execution_count": 65,
      "outputs": []
    },
    {
      "cell_type": "code",
      "source": [
        "#Sum of missing values per column\n",
        "#all_data.isna().sum()\n",
        "\n",
        "#Replacing NaN/ missing values with 0\n",
        "all_data.dropna(axis=0, how='all', inplace=True)\n"
      ],
      "metadata": {
        "id": "sFuFVfiByxXR"
      },
      "execution_count": 66,
      "outputs": []
    },
    {
      "cell_type": "code",
      "source": [
        "all_data.head(10)"
      ],
      "metadata": {
        "colab": {
          "base_uri": "https://localhost:8080/",
          "height": 363
        },
        "id": "yvv7ort00QF6",
        "outputId": "cf0c7c85-00bc-4919-f1f7-f33e0ef64a48"
      },
      "execution_count": 67,
      "outputs": [
        {
          "output_type": "execute_result",
          "data": {
            "text/plain": [
              "   Order ID                     Product Quantity Ordered Price Each  \\\n",
              "0    176558        USB-C Charging Cable                2      11.95   \n",
              "2    176559  Bose SoundSport Headphones                1      99.99   \n",
              "3    176560                Google Phone                1        600   \n",
              "4    176560            Wired Headphones                1      11.99   \n",
              "5    176561            Wired Headphones                1      11.99   \n",
              "6    176562        USB-C Charging Cable                1      11.95   \n",
              "7    176563  Bose SoundSport Headphones                1      99.99   \n",
              "8    176564        USB-C Charging Cable                1      11.95   \n",
              "9    176565          Macbook Pro Laptop                1       1700   \n",
              "10   176566            Wired Headphones                1      11.99   \n",
              "\n",
              "        Order Date                        Purchase Address  \n",
              "0   04/19/19 08:46            917 1st St, Dallas, TX 75001  \n",
              "2   04/07/19 22:30       682 Chestnut St, Boston, MA 02215  \n",
              "3   04/12/19 14:38    669 Spruce St, Los Angeles, CA 90001  \n",
              "4   04/12/19 14:38    669 Spruce St, Los Angeles, CA 90001  \n",
              "5   04/30/19 09:27       333 8th St, Los Angeles, CA 90001  \n",
              "6   04/29/19 13:03  381 Wilson St, San Francisco, CA 94016  \n",
              "7   04/02/19 07:46        668 Center St, Seattle, WA 98101  \n",
              "8   04/12/19 10:58         790 Ridge St, Atlanta, GA 30301  \n",
              "9   04/24/19 10:38  915 Willow St, San Francisco, CA 94016  \n",
              "10  04/08/19 14:05             83 7th St, Boston, MA 02215  "
            ],
            "text/html": [
              "\n",
              "  <div id=\"df-6eeef8bc-ee19-4b0a-8c29-ee0b20bc2096\">\n",
              "    <div class=\"colab-df-container\">\n",
              "      <div>\n",
              "<style scoped>\n",
              "    .dataframe tbody tr th:only-of-type {\n",
              "        vertical-align: middle;\n",
              "    }\n",
              "\n",
              "    .dataframe tbody tr th {\n",
              "        vertical-align: top;\n",
              "    }\n",
              "\n",
              "    .dataframe thead th {\n",
              "        text-align: right;\n",
              "    }\n",
              "</style>\n",
              "<table border=\"1\" class=\"dataframe\">\n",
              "  <thead>\n",
              "    <tr style=\"text-align: right;\">\n",
              "      <th></th>\n",
              "      <th>Order ID</th>\n",
              "      <th>Product</th>\n",
              "      <th>Quantity Ordered</th>\n",
              "      <th>Price Each</th>\n",
              "      <th>Order Date</th>\n",
              "      <th>Purchase Address</th>\n",
              "    </tr>\n",
              "  </thead>\n",
              "  <tbody>\n",
              "    <tr>\n",
              "      <th>0</th>\n",
              "      <td>176558</td>\n",
              "      <td>USB-C Charging Cable</td>\n",
              "      <td>2</td>\n",
              "      <td>11.95</td>\n",
              "      <td>04/19/19 08:46</td>\n",
              "      <td>917 1st St, Dallas, TX 75001</td>\n",
              "    </tr>\n",
              "    <tr>\n",
              "      <th>2</th>\n",
              "      <td>176559</td>\n",
              "      <td>Bose SoundSport Headphones</td>\n",
              "      <td>1</td>\n",
              "      <td>99.99</td>\n",
              "      <td>04/07/19 22:30</td>\n",
              "      <td>682 Chestnut St, Boston, MA 02215</td>\n",
              "    </tr>\n",
              "    <tr>\n",
              "      <th>3</th>\n",
              "      <td>176560</td>\n",
              "      <td>Google Phone</td>\n",
              "      <td>1</td>\n",
              "      <td>600</td>\n",
              "      <td>04/12/19 14:38</td>\n",
              "      <td>669 Spruce St, Los Angeles, CA 90001</td>\n",
              "    </tr>\n",
              "    <tr>\n",
              "      <th>4</th>\n",
              "      <td>176560</td>\n",
              "      <td>Wired Headphones</td>\n",
              "      <td>1</td>\n",
              "      <td>11.99</td>\n",
              "      <td>04/12/19 14:38</td>\n",
              "      <td>669 Spruce St, Los Angeles, CA 90001</td>\n",
              "    </tr>\n",
              "    <tr>\n",
              "      <th>5</th>\n",
              "      <td>176561</td>\n",
              "      <td>Wired Headphones</td>\n",
              "      <td>1</td>\n",
              "      <td>11.99</td>\n",
              "      <td>04/30/19 09:27</td>\n",
              "      <td>333 8th St, Los Angeles, CA 90001</td>\n",
              "    </tr>\n",
              "    <tr>\n",
              "      <th>6</th>\n",
              "      <td>176562</td>\n",
              "      <td>USB-C Charging Cable</td>\n",
              "      <td>1</td>\n",
              "      <td>11.95</td>\n",
              "      <td>04/29/19 13:03</td>\n",
              "      <td>381 Wilson St, San Francisco, CA 94016</td>\n",
              "    </tr>\n",
              "    <tr>\n",
              "      <th>7</th>\n",
              "      <td>176563</td>\n",
              "      <td>Bose SoundSport Headphones</td>\n",
              "      <td>1</td>\n",
              "      <td>99.99</td>\n",
              "      <td>04/02/19 07:46</td>\n",
              "      <td>668 Center St, Seattle, WA 98101</td>\n",
              "    </tr>\n",
              "    <tr>\n",
              "      <th>8</th>\n",
              "      <td>176564</td>\n",
              "      <td>USB-C Charging Cable</td>\n",
              "      <td>1</td>\n",
              "      <td>11.95</td>\n",
              "      <td>04/12/19 10:58</td>\n",
              "      <td>790 Ridge St, Atlanta, GA 30301</td>\n",
              "    </tr>\n",
              "    <tr>\n",
              "      <th>9</th>\n",
              "      <td>176565</td>\n",
              "      <td>Macbook Pro Laptop</td>\n",
              "      <td>1</td>\n",
              "      <td>1700</td>\n",
              "      <td>04/24/19 10:38</td>\n",
              "      <td>915 Willow St, San Francisco, CA 94016</td>\n",
              "    </tr>\n",
              "    <tr>\n",
              "      <th>10</th>\n",
              "      <td>176566</td>\n",
              "      <td>Wired Headphones</td>\n",
              "      <td>1</td>\n",
              "      <td>11.99</td>\n",
              "      <td>04/08/19 14:05</td>\n",
              "      <td>83 7th St, Boston, MA 02215</td>\n",
              "    </tr>\n",
              "  </tbody>\n",
              "</table>\n",
              "</div>\n",
              "      <button class=\"colab-df-convert\" onclick=\"convertToInteractive('df-6eeef8bc-ee19-4b0a-8c29-ee0b20bc2096')\"\n",
              "              title=\"Convert this dataframe to an interactive table.\"\n",
              "              style=\"display:none;\">\n",
              "        \n",
              "  <svg xmlns=\"http://www.w3.org/2000/svg\" height=\"24px\"viewBox=\"0 0 24 24\"\n",
              "       width=\"24px\">\n",
              "    <path d=\"M0 0h24v24H0V0z\" fill=\"none\"/>\n",
              "    <path d=\"M18.56 5.44l.94 2.06.94-2.06 2.06-.94-2.06-.94-.94-2.06-.94 2.06-2.06.94zm-11 1L8.5 8.5l.94-2.06 2.06-.94-2.06-.94L8.5 2.5l-.94 2.06-2.06.94zm10 10l.94 2.06.94-2.06 2.06-.94-2.06-.94-.94-2.06-.94 2.06-2.06.94z\"/><path d=\"M17.41 7.96l-1.37-1.37c-.4-.4-.92-.59-1.43-.59-.52 0-1.04.2-1.43.59L10.3 9.45l-7.72 7.72c-.78.78-.78 2.05 0 2.83L4 21.41c.39.39.9.59 1.41.59.51 0 1.02-.2 1.41-.59l7.78-7.78 2.81-2.81c.8-.78.8-2.07 0-2.86zM5.41 20L4 18.59l7.72-7.72 1.47 1.35L5.41 20z\"/>\n",
              "  </svg>\n",
              "      </button>\n",
              "      \n",
              "  <style>\n",
              "    .colab-df-container {\n",
              "      display:flex;\n",
              "      flex-wrap:wrap;\n",
              "      gap: 12px;\n",
              "    }\n",
              "\n",
              "    .colab-df-convert {\n",
              "      background-color: #E8F0FE;\n",
              "      border: none;\n",
              "      border-radius: 50%;\n",
              "      cursor: pointer;\n",
              "      display: none;\n",
              "      fill: #1967D2;\n",
              "      height: 32px;\n",
              "      padding: 0 0 0 0;\n",
              "      width: 32px;\n",
              "    }\n",
              "\n",
              "    .colab-df-convert:hover {\n",
              "      background-color: #E2EBFA;\n",
              "      box-shadow: 0px 1px 2px rgba(60, 64, 67, 0.3), 0px 1px 3px 1px rgba(60, 64, 67, 0.15);\n",
              "      fill: #174EA6;\n",
              "    }\n",
              "\n",
              "    [theme=dark] .colab-df-convert {\n",
              "      background-color: #3B4455;\n",
              "      fill: #D2E3FC;\n",
              "    }\n",
              "\n",
              "    [theme=dark] .colab-df-convert:hover {\n",
              "      background-color: #434B5C;\n",
              "      box-shadow: 0px 1px 3px 1px rgba(0, 0, 0, 0.15);\n",
              "      filter: drop-shadow(0px 1px 2px rgba(0, 0, 0, 0.3));\n",
              "      fill: #FFFFFF;\n",
              "    }\n",
              "  </style>\n",
              "\n",
              "      <script>\n",
              "        const buttonEl =\n",
              "          document.querySelector('#df-6eeef8bc-ee19-4b0a-8c29-ee0b20bc2096 button.colab-df-convert');\n",
              "        buttonEl.style.display =\n",
              "          google.colab.kernel.accessAllowed ? 'block' : 'none';\n",
              "\n",
              "        async function convertToInteractive(key) {\n",
              "          const element = document.querySelector('#df-6eeef8bc-ee19-4b0a-8c29-ee0b20bc2096');\n",
              "          const dataTable =\n",
              "            await google.colab.kernel.invokeFunction('convertToInteractive',\n",
              "                                                     [key], {});\n",
              "          if (!dataTable) return;\n",
              "\n",
              "          const docLinkHtml = 'Like what you see? Visit the ' +\n",
              "            '<a target=\"_blank\" href=https://colab.research.google.com/notebooks/data_table.ipynb>data table notebook</a>'\n",
              "            + ' to learn more about interactive tables.';\n",
              "          element.innerHTML = '';\n",
              "          dataTable['output_type'] = 'display_data';\n",
              "          await google.colab.output.renderOutput(dataTable, element);\n",
              "          const docLink = document.createElement('div');\n",
              "          docLink.innerHTML = docLinkHtml;\n",
              "          element.appendChild(docLink);\n",
              "        }\n",
              "      </script>\n",
              "    </div>\n",
              "  </div>\n",
              "  "
            ]
          },
          "metadata": {},
          "execution_count": 67
        }
      ]
    },
    {
      "cell_type": "code",
      "source": [],
      "metadata": {
        "id": "bZ0M0sOM6e_a"
      },
      "execution_count": null,
      "outputs": []
    },
    {
      "cell_type": "code",
      "source": [],
      "metadata": {
        "id": "eCk4niaV6e2h"
      },
      "execution_count": null,
      "outputs": []
    },
    {
      "cell_type": "code",
      "source": [],
      "metadata": {
        "id": "irOhC74J6ek9"
      },
      "execution_count": null,
      "outputs": []
    },
    {
      "cell_type": "markdown",
      "source": [
        "#Exploratory Analysis"
      ],
      "metadata": {
        "id": "DGy3Z4os0YvT"
      }
    },
    {
      "cell_type": "markdown",
      "source": [
        "####Augmenting Data With Additional Columns"
      ],
      "metadata": {
        "id": "Of47pC_P66x3"
      }
    },
    {
      "cell_type": "markdown",
      "source": [
        "Part 1: What was the best and worst month for sales? How much was earned that month?"
      ],
      "metadata": {
        "id": "KKRVo3e563rj"
      }
    },
    {
      "cell_type": "code",
      "source": [
        "all_data.info()"
      ],
      "metadata": {
        "colab": {
          "base_uri": "https://localhost:8080/"
        },
        "id": "ZqwV9EbZ7Lyf",
        "outputId": "08568f19-d45a-47c7-b792-c9a8459a7918"
      },
      "execution_count": 69,
      "outputs": [
        {
          "output_type": "stream",
          "name": "stdout",
          "text": [
            "<class 'pandas.core.frame.DataFrame'>\n",
            "Int64Index: 186305 entries, 0 to 186849\n",
            "Data columns (total 6 columns):\n",
            " #   Column            Non-Null Count   Dtype \n",
            "---  ------            --------------   ----- \n",
            " 0   Order ID          186305 non-null  object\n",
            " 1   Product           186305 non-null  object\n",
            " 2   Quantity Ordered  186305 non-null  object\n",
            " 3   Price Each        186305 non-null  object\n",
            " 4   Order Date        186305 non-null  object\n",
            " 5   Purchase Address  186305 non-null  object\n",
            "dtypes: object(6)\n",
            "memory usage: 9.9+ MB\n"
          ]
        }
      ]
    },
    {
      "cell_type": "code",
      "source": [
        "#adding month column by taking the first two didgits from the Order Date column\n",
        "all_data[\"Month\"] = all_data['Order Date'].str[0:2]\n",
        "\n",
        "#Removes rows with Month values equal to Or which came about whilst splitting the month from the Order Date column\n",
        "all_data = all_data[all_data[\"Month\"].str[0:2] != 'Or']"
      ],
      "metadata": {
        "id": "KixKYcup8Rn8"
      },
      "execution_count": 80,
      "outputs": []
    },
    {
      "cell_type": "code",
      "source": [
        "#converting columns to correct data type\n",
        "\n",
        "all_data[\"Month\"] = pd.to_numeric(all_data[\"Month\"]) #Makes integer\n",
        "\n",
        "all_data[\"Price Each\"] = pd.to_numeric(all_data[\"Price Each\"]) #Makes float\n",
        "\n",
        "all_data[\"Quantity Ordered\"] = pd.to_numeric(all_data[\"Quantity Ordered\"]) #Makes integer"
      ],
      "metadata": {
        "id": "KF5eRHxE65FO"
      },
      "execution_count": 84,
      "outputs": []
    },
    {
      "cell_type": "code",
      "source": [
        "#Creates sales column (Quantity * Price Each)\n",
        "all_data[\"Sales\"] = all_data[\"Quantity Ordered\"] * all_data[\"Price Each\"]"
      ],
      "metadata": {
        "id": "pedVile09sV7"
      },
      "execution_count": 89,
      "outputs": []
    },
    {
      "cell_type": "code",
      "source": [
        "#Groups the sum of sales by months and sorts in descending order of sales\n",
        "all_data.groupby(\"Month\").sum().sort_values(by=\"Sales\", ascending=False)"
      ],
      "metadata": {
        "id": "B5Rh25XO_gbe"
      },
      "execution_count": null,
      "outputs": []
    },
    {
      "cell_type": "code",
      "source": [
        "#Visualizing The Total sales\n",
        "results = all_data.groupby(\"Month\").sum()\n",
        "months = range(1,13)\n",
        "\n",
        "\n",
        "plt.bar(months, results[\"Sales\"]) #plotting a bar chart with months on x, sales on y\n",
        "\n",
        "plt.xlabel('Month Number') # update x-axis label\n",
        "plt.ylabel('Millions ($)') # update y-axis label\n",
        "plt.title(\"Total Sales Each Month In 2019\") #update title\n",
        "plt.xticks(months)\n",
        "\n",
        "plt.show\n",
        "\n",
        "\n"
      ],
      "metadata": {
        "colab": {
          "base_uri": "https://localhost:8080/",
          "height": 313
        },
        "id": "tFJhmfw8AMKN",
        "outputId": "bfd36f35-fd67-4b22-dc92-917cd665a532"
      },
      "execution_count": 227,
      "outputs": [
        {
          "output_type": "execute_result",
          "data": {
            "text/plain": [
              "<function matplotlib.pyplot.show(*args, **kw)>"
            ]
          },
          "metadata": {},
          "execution_count": 227
        },
        {
          "output_type": "display_data",
          "data": {
            "text/plain": [
              "<Figure size 432x288 with 1 Axes>"
            ],
            "image/png": "[encoded data removed]"
          },
          "metadata": {
            "needs_background": "light"
          }
        }
      ]
    },
    {
      "cell_type": "markdown",
      "source": [
        "December was the best month whilst January was the worst month"
      ],
      "metadata": {
        "id": "lvOtN57CDClZ"
      }
    },
    {
      "cell_type": "code",
      "source": [],
      "metadata": {
        "id": "foVUUTMbLsm7"
      },
      "execution_count": null,
      "outputs": []
    },
    {
      "cell_type": "code",
      "source": [],
      "metadata": {
        "id": "sQzKvQudLrHc"
      },
      "execution_count": null,
      "outputs": []
    },
    {
      "cell_type": "code",
      "source": [],
      "metadata": {
        "id": "lfGAnU3v7Dlw"
      },
      "execution_count": null,
      "outputs": []
    },
    {
      "cell_type": "markdown",
      "source": [
        "##Part 2: Which 5 US Cities sold the most products?"
      ],
      "metadata": {
        "id": "g1rFBWDyGTYC"
      }
    },
    {
      "cell_type": "code",
      "source": [
        "#Augmenting a city column from the Purchase Address column using apply and lambda function\n",
        "#NB: In this context, index refers to words\n",
        "\n",
        "def get_state(address) : # this function returns the state in which the city is in, so as to specify which city\n",
        "  return address.split(',')[2].split(\" \")[1] #returns the 2nd index after the comma, which is the state and zip code. Further split between state and zip code, using the first index after the whitespace ie: zip code\n",
        "\n",
        "all_data[\"City\"] = all_data[\"Purchase Address\"].apply(lambda x: x.split(',')[1] + \", \" + get_state(x)) #the function splits the string at the first sentence and returns the value at the 1st index\n",
        "\n",
        "all_data.head()"
      ],
      "metadata": {
        "id": "1iHbiVTbDUEE"
      },
      "execution_count": null,
      "outputs": []
    },
    {
      "cell_type": "code",
      "source": [
        "#grouping cities by most product sales\n",
        "all_data.groupby(\"City\").sum().sort_values(by=\"Sales\", ascending=False)"
      ],
      "metadata": {
        "colab": {
          "base_uri": "https://localhost:8080/",
          "height": 394
        },
        "id": "Xl2yOvB4R3t2",
        "outputId": "feab3a81-686d-43a3-defb-536251fbf00a"
      },
      "execution_count": 168,
      "outputs": [
        {
          "output_type": "execute_result",
          "data": {
            "text/plain": [
              "                    Quantity Ordered  Price Each   Month       Sales\n",
              "City                                                                \n",
              " San Francisco, CA             50239  8211461.74  315520  8262203.91\n",
              " Los Angeles, CA               33289  5421435.23  208325  5452570.80\n",
              " New York City, NY             27932  4635370.83  175741  4664317.43\n",
              " Boston, MA                    22528  3637409.77  141112  3661642.01\n",
              " Atlanta, GA                   16602  2779908.20  104794  2795498.58\n",
              " Dallas, TX                    16730  2752627.82  104620  2767975.40\n",
              " Seattle, WA                   16553  2733296.01  104941  2747755.48\n",
              " Portland, OR                  11303  1860558.22   70621  1870732.34\n",
              " Austin, TX                    11153  1809873.61   69829  1819581.75\n",
              " Portland, ME                   2750   447189.25   17144   449758.27"
            ],
            "text/html": [
              "\n",
              "  <div id=\"df-6e1897eb-659b-4e1d-a69d-fe4870fd3c0e\">\n",
              "    <div class=\"colab-df-container\">\n",
              "      <div>\n",
              "<style scoped>\n",
              "    .dataframe tbody tr th:only-of-type {\n",
              "        vertical-align: middle;\n",
              "    }\n",
              "\n",
              "    .dataframe tbody tr th {\n",
              "        vertical-align: top;\n",
              "    }\n",
              "\n",
              "    .dataframe thead th {\n",
              "        text-align: right;\n",
              "    }\n",
              "</style>\n",
              "<table border=\"1\" class=\"dataframe\">\n",
              "  <thead>\n",
              "    <tr style=\"text-align: right;\">\n",
              "      <th></th>\n",
              "      <th>Quantity Ordered</th>\n",
              "      <th>Price Each</th>\n",
              "      <th>Month</th>\n",
              "      <th>Sales</th>\n",
              "    </tr>\n",
              "    <tr>\n",
              "      <th>City</th>\n",
              "      <th></th>\n",
              "      <th></th>\n",
              "      <th></th>\n",
              "      <th></th>\n",
              "    </tr>\n",
              "  </thead>\n",
              "  <tbody>\n",
              "    <tr>\n",
              "      <th>San Francisco, CA</th>\n",
              "      <td>50239</td>\n",
              "      <td>8211461.74</td>\n",
              "      <td>315520</td>\n",
              "      <td>8262203.91</td>\n",
              "    </tr>\n",
              "    <tr>\n",
              "      <th>Los Angeles, CA</th>\n",
              "      <td>33289</td>\n",
              "      <td>5421435.23</td>\n",
              "      <td>208325</td>\n",
              "      <td>5452570.80</td>\n",
              "    </tr>\n",
              "    <tr>\n",
              "      <th>New York City, NY</th>\n",
              "      <td>27932</td>\n",
              "      <td>4635370.83</td>\n",
              "      <td>175741</td>\n",
              "      <td>4664317.43</td>\n",
              "    </tr>\n",
              "    <tr>\n",
              "      <th>Boston, MA</th>\n",
              "      <td>22528</td>\n",
              "      <td>3637409.77</td>\n",
              "      <td>141112</td>\n",
              "      <td>3661642.01</td>\n",
              "    </tr>\n",
              "    <tr>\n",
              "      <th>Atlanta, GA</th>\n",
              "      <td>16602</td>\n",
              "      <td>2779908.20</td>\n",
              "      <td>104794</td>\n",
              "      <td>2795498.58</td>\n",
              "    </tr>\n",
              "    <tr>\n",
              "      <th>Dallas, TX</th>\n",
              "      <td>16730</td>\n",
              "      <td>2752627.82</td>\n",
              "      <td>104620</td>\n",
              "      <td>2767975.40</td>\n",
              "    </tr>\n",
              "    <tr>\n",
              "      <th>Seattle, WA</th>\n",
              "      <td>16553</td>\n",
              "      <td>2733296.01</td>\n",
              "      <td>104941</td>\n",
              "      <td>2747755.48</td>\n",
              "    </tr>\n",
              "    <tr>\n",
              "      <th>Portland, OR</th>\n",
              "      <td>11303</td>\n",
              "      <td>1860558.22</td>\n",
              "      <td>70621</td>\n",
              "      <td>1870732.34</td>\n",
              "    </tr>\n",
              "    <tr>\n",
              "      <th>Austin, TX</th>\n",
              "      <td>11153</td>\n",
              "      <td>1809873.61</td>\n",
              "      <td>69829</td>\n",
              "      <td>1819581.75</td>\n",
              "    </tr>\n",
              "    <tr>\n",
              "      <th>Portland, ME</th>\n",
              "      <td>2750</td>\n",
              "      <td>447189.25</td>\n",
              "      <td>17144</td>\n",
              "      <td>449758.27</td>\n",
              "    </tr>\n",
              "  </tbody>\n",
              "</table>\n",
              "</div>\n",
              "      <button class=\"colab-df-convert\" onclick=\"convertToInteractive('df-6e1897eb-659b-4e1d-a69d-fe4870fd3c0e')\"\n",
              "              title=\"Convert this dataframe to an interactive table.\"\n",
              "              style=\"display:none;\">\n",
              "        \n",
              "  <svg xmlns=\"http://www.w3.org/2000/svg\" height=\"24px\"viewBox=\"0 0 24 24\"\n",
              "       width=\"24px\">\n",
              "    <path d=\"M0 0h24v24H0V0z\" fill=\"none\"/>\n",
              "    <path d=\"M18.56 5.44l.94 2.06.94-2.06 2.06-.94-2.06-.94-.94-2.06-.94 2.06-2.06.94zm-11 1L8.5 8.5l.94-2.06 2.06-.94-2.06-.94L8.5 2.5l-.94 2.06-2.06.94zm10 10l.94 2.06.94-2.06 2.06-.94-2.06-.94-.94-2.06-.94 2.06-2.06.94z\"/><path d=\"M17.41 7.96l-1.37-1.37c-.4-.4-.92-.59-1.43-.59-.52 0-1.04.2-1.43.59L10.3 9.45l-7.72 7.72c-.78.78-.78 2.05 0 2.83L4 21.41c.39.39.9.59 1.41.59.51 0 1.02-.2 1.41-.59l7.78-7.78 2.81-2.81c.8-.78.8-2.07 0-2.86zM5.41 20L4 18.59l7.72-7.72 1.47 1.35L5.41 20z\"/>\n",
              "  </svg>\n",
              "      </button>\n",
              "      \n",
              "  <style>\n",
              "    .colab-df-container {\n",
              "      display:flex;\n",
              "      flex-wrap:wrap;\n",
              "      gap: 12px;\n",
              "    }\n",
              "\n",
              "    .colab-df-convert {\n",
              "      background-color: #E8F0FE;\n",
              "      border: none;\n",
              "      border-radius: 50%;\n",
              "      cursor: pointer;\n",
              "      display: none;\n",
              "      fill: #1967D2;\n",
              "      height: 32px;\n",
              "      padding: 0 0 0 0;\n",
              "      width: 32px;\n",
              "    }\n",
              "\n",
              "    .colab-df-convert:hover {\n",
              "      background-color: #E2EBFA;\n",
              "      box-shadow: 0px 1px 2px rgba(60, 64, 67, 0.3), 0px 1px 3px 1px rgba(60, 64, 67, 0.15);\n",
              "      fill: #174EA6;\n",
              "    }\n",
              "\n",
              "    [theme=dark] .colab-df-convert {\n",
              "      background-color: #3B4455;\n",
              "      fill: #D2E3FC;\n",
              "    }\n",
              "\n",
              "    [theme=dark] .colab-df-convert:hover {\n",
              "      background-color: #434B5C;\n",
              "      box-shadow: 0px 1px 3px 1px rgba(0, 0, 0, 0.15);\n",
              "      filter: drop-shadow(0px 1px 2px rgba(0, 0, 0, 0.3));\n",
              "      fill: #FFFFFF;\n",
              "    }\n",
              "  </style>\n",
              "\n",
              "      <script>\n",
              "        const buttonEl =\n",
              "          document.querySelector('#df-6e1897eb-659b-4e1d-a69d-fe4870fd3c0e button.colab-df-convert');\n",
              "        buttonEl.style.display =\n",
              "          google.colab.kernel.accessAllowed ? 'block' : 'none';\n",
              "\n",
              "        async function convertToInteractive(key) {\n",
              "          const element = document.querySelector('#df-6e1897eb-659b-4e1d-a69d-fe4870fd3c0e');\n",
              "          const dataTable =\n",
              "            await google.colab.kernel.invokeFunction('convertToInteractive',\n",
              "                                                     [key], {});\n",
              "          if (!dataTable) return;\n",
              "\n",
              "          const docLinkHtml = 'Like what you see? Visit the ' +\n",
              "            '<a target=\"_blank\" href=https://colab.research.google.com/notebooks/data_table.ipynb>data table notebook</a>'\n",
              "            + ' to learn more about interactive tables.';\n",
              "          element.innerHTML = '';\n",
              "          dataTable['output_type'] = 'display_data';\n",
              "          await google.colab.output.renderOutput(dataTable, element);\n",
              "          const docLink = document.createElement('div');\n",
              "          docLink.innerHTML = docLinkHtml;\n",
              "          element.appendChild(docLink);\n",
              "        }\n",
              "      </script>\n",
              "    </div>\n",
              "  </div>\n",
              "  "
            ]
          },
          "metadata": {},
          "execution_count": 168
        }
      ]
    },
    {
      "cell_type": "code",
      "source": [
        "#Visualizing The Total sales\n",
        "results = all_data.groupby(\"City\").sum()\n",
        "\n",
        "cities = [city for city, df in all_data.groupby('City')]\n",
        "\n",
        "plt.barh(cities, results[\"Sales\"]) #plotting a horizontal bar chart with sales on x, cities on y\n",
        "\n",
        "plt.xlabel('Millions ($)') # update x-axis label\n",
        "plt.ylabel('Cities' ) # update y-axis label\n",
        "plt.title(\"Top Cities By Sales In 2019\") #update title\n",
        "plt.yticks(cities, rotation=360)\n",
        "\n",
        "plt.show\n",
        "\n",
        "\n",
        "\n",
        "\n"
      ],
      "metadata": {
        "colab": {
          "base_uri": "https://localhost:8080/",
          "height": 313
        },
        "id": "6EA0EdfKS0Ec",
        "outputId": "6bb9537c-8340-4071-d53f-93c8a28e019d"
      },
      "execution_count": 229,
      "outputs": [
        {
          "output_type": "execute_result",
          "data": {
            "text/plain": [
              "<function matplotlib.pyplot.show(*args, **kw)>"
            ]
          },
          "metadata": {},
          "execution_count": 229
        },
        {
          "output_type": "display_data",
          "data": {
            "text/plain": [
              "<Figure size 432x288 with 1 Axes>"
            ],
            "image/png": "[encoded data removed]"
          },
          "metadata": {
            "needs_background": "light"
          }
        }
      ]
    },
    {
      "cell_type": "markdown",
      "source": [
        "The Top 5 Cities with the most Sales are as follows;\n",
        "1. San Francisco, CA\n",
        "2. Los Angeles, CA\n",
        "3. New York City, NY\n",
        "4. Boston, MA\n",
        "5. Atlanta, GA"
      ],
      "metadata": {
        "id": "uE0QRwHO7Xyz"
      }
    },
    {
      "cell_type": "code",
      "source": [],
      "metadata": {
        "id": "P4FDHf4MfqEm"
      },
      "execution_count": null,
      "outputs": []
    },
    {
      "cell_type": "code",
      "source": [],
      "metadata": {
        "id": "0kXn2K_Ufp-e"
      },
      "execution_count": null,
      "outputs": []
    },
    {
      "cell_type": "code",
      "source": [],
      "metadata": {
        "id": "RQ0eCSgGfpuu"
      },
      "execution_count": null,
      "outputs": []
    },
    {
      "cell_type": "markdown",
      "source": [
        "##Part 3: What time should we display advertisements to maximize likelihood of customers buying products?\n"
      ],
      "metadata": {
        "id": "O6eNYb9pfrzv"
      }
    },
    {
      "cell_type": "code",
      "source": [
        "#converts the Order Hour column to date and time format\n",
        "all_data['Order Date'] = pd.to_datetime(all_data[\"Order Date\"])"
      ],
      "metadata": {
        "id": "ZOQW0lVrm7Yr"
      },
      "execution_count": 179,
      "outputs": []
    },
    {
      "cell_type": "code",
      "source": [
        "#extracting the hour from the start time\n",
        "all_data[\"Hour Of Purchase\"] = all_data['Order Date'].dt.hour\n",
        "all_data.head()"
      ],
      "metadata": {
        "id": "6WH8f9yUgtPl"
      },
      "execution_count": null,
      "outputs": []
    },
    {
      "cell_type": "code",
      "source": [
        "#Visualizing The Number Of Times the Order Hour appears\n",
        "hours = [hour for hour, df in all_data.groupby(\"Hour Of Purchase\")]\n",
        "\n",
        "plt.plot(hours, all_data.groupby([\"Hour Of Purchase\"]).count())\n",
        "plt.grid()\n",
        "plt.xticks(hours)\n",
        "plt.xlabel('Hour Of Purchase') # update x-axis label\n",
        "plt.ylabel('No. Of Orders' ) # update y-axis label\n",
        "plt.title(\"Number Of Orders Per Hour For All Cities\") #update title\n",
        "plt.show\n"
      ],
      "metadata": {
        "colab": {
          "base_uri": "https://localhost:8080/",
          "height": 313
        },
        "id": "s9w5PERuhx5k",
        "outputId": "18be2f25-550b-42b1-85bb-322e98246166"
      },
      "execution_count": 182,
      "outputs": [
        {
          "output_type": "execute_result",
          "data": {
            "text/plain": [
              "<function matplotlib.pyplot.show(*args, **kw)>"
            ]
          },
          "metadata": {},
          "execution_count": 182
        },
        {
          "output_type": "display_data",
          "data": {
            "text/plain": [
              "<Figure size 432x288 with 1 Axes>"
            ],
            "image/png": "[encoded data removed]"
          },
          "metadata": {
            "needs_background": "light"
          }
        }
      ]
    },
    {
      "cell_type": "markdown",
      "source": [
        "According to this visualization,the best time to advertize would be between 11am and 12pm and at 7pm"
      ],
      "metadata": {
        "id": "Zw7PkV4SoAZb"
      }
    },
    {
      "cell_type": "code",
      "source": [],
      "metadata": {
        "id": "5xQQe7mIo9_q"
      },
      "execution_count": null,
      "outputs": []
    },
    {
      "cell_type": "code",
      "source": [],
      "metadata": {
        "id": "0XFHtr2Oo904"
      },
      "execution_count": null,
      "outputs": []
    },
    {
      "cell_type": "code",
      "source": [],
      "metadata": {
        "id": "vYInmtQ1o9np"
      },
      "execution_count": null,
      "outputs": []
    },
    {
      "cell_type": "markdown",
      "source": [
        "#Part 4: What Products are most often sold together?\n",
        "######Selling Of products together is based off the Order ID, products with the same order ID are most likely sold together"
      ],
      "metadata": {
        "id": "cumKmbhSo-cm"
      }
    },
    {
      "cell_type": "code",
      "source": [
        "all_data.head()"
      ],
      "metadata": {
        "id": "L_bJttwYpGAi"
      },
      "execution_count": null,
      "outputs": []
    },
    {
      "cell_type": "code",
      "source": [
        "#Know which rows have duplicate values\n",
        "#Create a new dataframe\n",
        "duplicates = all_data[all_data[\"Order ID\"].duplicated(keep=False)] #checks for duplocated values in all cells in Order ID column\n",
        "duplicates.head(20)"
      ],
      "metadata": {
        "id": "XLT0n_Q1qIQn"
      },
      "execution_count": null,
      "outputs": []
    },
    {
      "cell_type": "code",
      "source": [
        "#grouping products with same ID into one cell\n",
        "duplicates['Grouped'] = duplicates.groupby(\"Order ID\")[\"Product\"].transform(lambda x: ','.join(x))\n",
        "\n",
        "#drops duplicates of grouped items\n",
        "duplicates = duplicates[[\"Order ID\", \"Grouped\"]].drop_duplicates()\n",
        "duplicates.head()"
      ],
      "metadata": {
        "colab": {
          "base_uri": "https://localhost:8080/",
          "height": 313
        },
        "id": "5MOxGecFrAv2",
        "outputId": "85ef1e54-aa2a-45ed-bf97-94f93a65d02f"
      },
      "execution_count": 186,
      "outputs": [
        {
          "output_type": "stream",
          "name": "stderr",
          "text": [
            "<ipython-input-186-22e03e35cb3f>:2: SettingWithCopyWarning: \n",
            "A value is trying to be set on a copy of a slice from a DataFrame.\n",
            "Try using .loc[row_indexer,col_indexer] = value instead\n",
            "\n",
            "See the caveats in the documentation: https://pandas.pydata.org/pandas-docs/stable/user_guide/indexing.html#returning-a-view-versus-a-copy\n",
            "  duplicates['Grouped'] = duplicates.groupby(\"Order ID\")[\"Product\"].transform(lambda x: ','.join(x))\n"
          ]
        },
        {
          "output_type": "execute_result",
          "data": {
            "text/plain": [
              "    Order ID                                            Grouped\n",
              "3     176560                      Google Phone,Wired Headphones\n",
              "18    176574                  Google Phone,USB-C Charging Cable\n",
              "30    176585  Bose SoundSport Headphones,Bose SoundSport Hea...\n",
              "32    176586                AAA Batteries (4-pack),Google Phone\n",
              "119   176672      Lightning Charging Cable,USB-C Charging Cable"
            ],
            "text/html": [
              "\n",
              "  <div id=\"df-6ef25d0a-20a4-4ecc-91be-9ed831ff1ab5\">\n",
              "    <div class=\"colab-df-container\">\n",
              "      <div>\n",
              "<style scoped>\n",
              "    .dataframe tbody tr th:only-of-type {\n",
              "        vertical-align: middle;\n",
              "    }\n",
              "\n",
              "    .dataframe tbody tr th {\n",
              "        vertical-align: top;\n",
              "    }\n",
              "\n",
              "    .dataframe thead th {\n",
              "        text-align: right;\n",
              "    }\n",
              "</style>\n",
              "<table border=\"1\" class=\"dataframe\">\n",
              "  <thead>\n",
              "    <tr style=\"text-align: right;\">\n",
              "      <th></th>\n",
              "      <th>Order ID</th>\n",
              "      <th>Grouped</th>\n",
              "    </tr>\n",
              "  </thead>\n",
              "  <tbody>\n",
              "    <tr>\n",
              "      <th>3</th>\n",
              "      <td>176560</td>\n",
              "      <td>Google Phone,Wired Headphones</td>\n",
              "    </tr>\n",
              "    <tr>\n",
              "      <th>18</th>\n",
              "      <td>176574</td>\n",
              "      <td>Google Phone,USB-C Charging Cable</td>\n",
              "    </tr>\n",
              "    <tr>\n",
              "      <th>30</th>\n",
              "      <td>176585</td>\n",
              "      <td>Bose SoundSport Headphones,Bose SoundSport Hea...</td>\n",
              "    </tr>\n",
              "    <tr>\n",
              "      <th>32</th>\n",
              "      <td>176586</td>\n",
              "      <td>AAA Batteries (4-pack),Google Phone</td>\n",
              "    </tr>\n",
              "    <tr>\n",
              "      <th>119</th>\n",
              "      <td>176672</td>\n",
              "      <td>Lightning Charging Cable,USB-C Charging Cable</td>\n",
              "    </tr>\n",
              "  </tbody>\n",
              "</table>\n",
              "</div>\n",
              "      <button class=\"colab-df-convert\" onclick=\"convertToInteractive('df-6ef25d0a-20a4-4ecc-91be-9ed831ff1ab5')\"\n",
              "              title=\"Convert this dataframe to an interactive table.\"\n",
              "              style=\"display:none;\">\n",
              "        \n",
              "  <svg xmlns=\"http://www.w3.org/2000/svg\" height=\"24px\"viewBox=\"0 0 24 24\"\n",
              "       width=\"24px\">\n",
              "    <path d=\"M0 0h24v24H0V0z\" fill=\"none\"/>\n",
              "    <path d=\"M18.56 5.44l.94 2.06.94-2.06 2.06-.94-2.06-.94-.94-2.06-.94 2.06-2.06.94zm-11 1L8.5 8.5l.94-2.06 2.06-.94-2.06-.94L8.5 2.5l-.94 2.06-2.06.94zm10 10l.94 2.06.94-2.06 2.06-.94-2.06-.94-.94-2.06-.94 2.06-2.06.94z\"/><path d=\"M17.41 7.96l-1.37-1.37c-.4-.4-.92-.59-1.43-.59-.52 0-1.04.2-1.43.59L10.3 9.45l-7.72 7.72c-.78.78-.78 2.05 0 2.83L4 21.41c.39.39.9.59 1.41.59.51 0 1.02-.2 1.41-.59l7.78-7.78 2.81-2.81c.8-.78.8-2.07 0-2.86zM5.41 20L4 18.59l7.72-7.72 1.47 1.35L5.41 20z\"/>\n",
              "  </svg>\n",
              "      </button>\n",
              "      \n",
              "  <style>\n",
              "    .colab-df-container {\n",
              "      display:flex;\n",
              "      flex-wrap:wrap;\n",
              "      gap: 12px;\n",
              "    }\n",
              "\n",
              "    .colab-df-convert {\n",
              "      background-color: #E8F0FE;\n",
              "      border: none;\n",
              "      border-radius: 50%;\n",
              "      cursor: pointer;\n",
              "      display: none;\n",
              "      fill: #1967D2;\n",
              "      height: 32px;\n",
              "      padding: 0 0 0 0;\n",
              "      width: 32px;\n",
              "    }\n",
              "\n",
              "    .colab-df-convert:hover {\n",
              "      background-color: #E2EBFA;\n",
              "      box-shadow: 0px 1px 2px rgba(60, 64, 67, 0.3), 0px 1px 3px 1px rgba(60, 64, 67, 0.15);\n",
              "      fill: #174EA6;\n",
              "    }\n",
              "\n",
              "    [theme=dark] .colab-df-convert {\n",
              "      background-color: #3B4455;\n",
              "      fill: #D2E3FC;\n",
              "    }\n",
              "\n",
              "    [theme=dark] .colab-df-convert:hover {\n",
              "      background-color: #434B5C;\n",
              "      box-shadow: 0px 1px 3px 1px rgba(0, 0, 0, 0.15);\n",
              "      filter: drop-shadow(0px 1px 2px rgba(0, 0, 0, 0.3));\n",
              "      fill: #FFFFFF;\n",
              "    }\n",
              "  </style>\n",
              "\n",
              "      <script>\n",
              "        const buttonEl =\n",
              "          document.querySelector('#df-6ef25d0a-20a4-4ecc-91be-9ed831ff1ab5 button.colab-df-convert');\n",
              "        buttonEl.style.display =\n",
              "          google.colab.kernel.accessAllowed ? 'block' : 'none';\n",
              "\n",
              "        async function convertToInteractive(key) {\n",
              "          const element = document.querySelector('#df-6ef25d0a-20a4-4ecc-91be-9ed831ff1ab5');\n",
              "          const dataTable =\n",
              "            await google.colab.kernel.invokeFunction('convertToInteractive',\n",
              "                                                     [key], {});\n",
              "          if (!dataTable) return;\n",
              "\n",
              "          const docLinkHtml = 'Like what you see? Visit the ' +\n",
              "            '<a target=\"_blank\" href=https://colab.research.google.com/notebooks/data_table.ipynb>data table notebook</a>'\n",
              "            + ' to learn more about interactive tables.';\n",
              "          element.innerHTML = '';\n",
              "          dataTable['output_type'] = 'display_data';\n",
              "          await google.colab.output.renderOutput(dataTable, element);\n",
              "          const docLink = document.createElement('div');\n",
              "          docLink.innerHTML = docLinkHtml;\n",
              "          element.appendChild(docLink);\n",
              "        }\n",
              "      </script>\n",
              "    </div>\n",
              "  </div>\n",
              "  "
            ]
          },
          "metadata": {},
          "execution_count": 186
        }
      ]
    },
    {
      "cell_type": "code",
      "source": [
        "#counting the number of occurencies of oairs in order to find which products are sold together the most\n",
        "# libraries Used; \n",
        "#from itertools import combinations\n",
        "#from collections import Counter"
      ],
      "metadata": {
        "id": "M1uUfJCmsA3x"
      },
      "execution_count": null,
      "outputs": []
    },
    {
      "cell_type": "code",
      "source": [
        "#Referenced: https://stackoverflow.com/questions/52195887/counting-unique-pairs-of-numbers-into-a-python-dictionary\n",
        "\n",
        "count = Counter()\n",
        "for row in duplicates[\"Grouped\"]:\n",
        "  row_list = row.split(',')\n",
        "  count.update(Counter(combinations(row_list, 2)))\n",
        "\n",
        "for key, value in count.most_common(10):\n",
        "  print(key, value)"
      ],
      "metadata": {
        "colab": {
          "base_uri": "https://localhost:8080/"
        },
        "id": "kwllM3fTs_or",
        "outputId": "b75ca216-d6eb-4079-c2c1-5964c569b60e"
      },
      "execution_count": 191,
      "outputs": [
        {
          "output_type": "stream",
          "name": "stdout",
          "text": [
            "('iPhone', 'Lightning Charging Cable') 1005\n",
            "('Google Phone', 'USB-C Charging Cable') 987\n",
            "('iPhone', 'Wired Headphones') 447\n",
            "('Google Phone', 'Wired Headphones') 414\n",
            "('Vareebadd Phone', 'USB-C Charging Cable') 361\n",
            "('iPhone', 'Apple Airpods Headphones') 360\n",
            "('Google Phone', 'Bose SoundSport Headphones') 220\n",
            "('USB-C Charging Cable', 'Wired Headphones') 160\n",
            "('Vareebadd Phone', 'Wired Headphones') 143\n",
            "('Lightning Charging Cable', 'Wired Headphones') 92\n"
          ]
        }
      ]
    },
    {
      "cell_type": "code",
      "source": [],
      "metadata": {
        "id": "L41xfrjOva1F"
      },
      "execution_count": null,
      "outputs": []
    },
    {
      "cell_type": "code",
      "source": [],
      "metadata": {
        "id": "0SiX7uP-vat7"
      },
      "execution_count": null,
      "outputs": []
    },
    {
      "cell_type": "code",
      "source": [],
      "metadata": {
        "id": "KxRyvYujvak1"
      },
      "execution_count": null,
      "outputs": []
    },
    {
      "cell_type": "markdown",
      "source": [
        "Part 5: What product sold the most? Why do you think it sold the most?"
      ],
      "metadata": {
        "id": "FTGw3ey7vbPK"
      }
    },
    {
      "cell_type": "code",
      "source": [
        "#Grouping the dataset by the Products and summing how many times each product was ordered\n",
        "product_grouping = all_data.groupby(\"Product\").sum().sort_values(by=\"Quantity Ordered\", ascending=False)\n",
        "product_grouping.head(5)"
      ],
      "metadata": {
        "colab": {
          "base_uri": "https://localhost:8080/",
          "height": 238
        },
        "id": "QtABJK0zvh6_",
        "outputId": "b6786c05-4d9f-4bd8-99ac-e85c8ca90f18"
      },
      "execution_count": 226,
      "outputs": [
        {
          "output_type": "execute_result",
          "data": {
            "text/plain": [
              "                          Quantity Ordered  Price Each   Month      Sales  \\\n",
              "Product                                                                     \n",
              "AAA Batteries (4-pack)               31017    61716.59  146370   92740.83   \n",
              "AA Batteries (4-pack)                27635    79015.68  145558  106118.40   \n",
              "USB-C Charging Cable                 23975   261740.85  154819  286501.25   \n",
              "Lightning Charging Cable             23217   323787.10  153092  347094.15   \n",
              "Wired Headphones                     20557   226395.18  133397  246478.43   \n",
              "\n",
              "                            Time  Hour Of Purchase  \n",
              "Product                                             \n",
              "AAA Batteries (4-pack)    297332            297332  \n",
              "AA Batteries (4-pack)     298342            298342  \n",
              "USB-C Charging Cable      314645            314645  \n",
              "Lightning Charging Cable  312529            312529  \n",
              "Wired Headphones          271720            271720  "
            ],
            "text/html": [
              "\n",
              "  <div id=\"df-87a9d26c-caa5-46fd-a3e8-bf1ed1d6365f\">\n",
              "    <div class=\"colab-df-container\">\n",
              "      <div>\n",
              "<style scoped>\n",
              "    .dataframe tbody tr th:only-of-type {\n",
              "        vertical-align: middle;\n",
              "    }\n",
              "\n",
              "    .dataframe tbody tr th {\n",
              "        vertical-align: top;\n",
              "    }\n",
              "\n",
              "    .dataframe thead th {\n",
              "        text-align: right;\n",
              "    }\n",
              "</style>\n",
              "<table border=\"1\" class=\"dataframe\">\n",
              "  <thead>\n",
              "    <tr style=\"text-align: right;\">\n",
              "      <th></th>\n",
              "      <th>Quantity Ordered</th>\n",
              "      <th>Price Each</th>\n",
              "      <th>Month</th>\n",
              "      <th>Sales</th>\n",
              "      <th>Time</th>\n",
              "      <th>Hour Of Purchase</th>\n",
              "    </tr>\n",
              "    <tr>\n",
              "      <th>Product</th>\n",
              "      <th></th>\n",
              "      <th></th>\n",
              "      <th></th>\n",
              "      <th></th>\n",
              "      <th></th>\n",
              "      <th></th>\n",
              "    </tr>\n",
              "  </thead>\n",
              "  <tbody>\n",
              "    <tr>\n",
              "      <th>AAA Batteries (4-pack)</th>\n",
              "      <td>31017</td>\n",
              "      <td>61716.59</td>\n",
              "      <td>146370</td>\n",
              "      <td>92740.83</td>\n",
              "      <td>297332</td>\n",
              "      <td>297332</td>\n",
              "    </tr>\n",
              "    <tr>\n",
              "      <th>AA Batteries (4-pack)</th>\n",
              "      <td>27635</td>\n",
              "      <td>79015.68</td>\n",
              "      <td>145558</td>\n",
              "      <td>106118.40</td>\n",
              "      <td>298342</td>\n",
              "      <td>298342</td>\n",
              "    </tr>\n",
              "    <tr>\n",
              "      <th>USB-C Charging Cable</th>\n",
              "      <td>23975</td>\n",
              "      <td>261740.85</td>\n",
              "      <td>154819</td>\n",
              "      <td>286501.25</td>\n",
              "      <td>314645</td>\n",
              "      <td>314645</td>\n",
              "    </tr>\n",
              "    <tr>\n",
              "      <th>Lightning Charging Cable</th>\n",
              "      <td>23217</td>\n",
              "      <td>323787.10</td>\n",
              "      <td>153092</td>\n",
              "      <td>347094.15</td>\n",
              "      <td>312529</td>\n",
              "      <td>312529</td>\n",
              "    </tr>\n",
              "    <tr>\n",
              "      <th>Wired Headphones</th>\n",
              "      <td>20557</td>\n",
              "      <td>226395.18</td>\n",
              "      <td>133397</td>\n",
              "      <td>246478.43</td>\n",
              "      <td>271720</td>\n",
              "      <td>271720</td>\n",
              "    </tr>\n",
              "  </tbody>\n",
              "</table>\n",
              "</div>\n",
              "      <button class=\"colab-df-convert\" onclick=\"convertToInteractive('df-87a9d26c-caa5-46fd-a3e8-bf1ed1d6365f')\"\n",
              "              title=\"Convert this dataframe to an interactive table.\"\n",
              "              style=\"display:none;\">\n",
              "        \n",
              "  <svg xmlns=\"http://www.w3.org/2000/svg\" height=\"24px\"viewBox=\"0 0 24 24\"\n",
              "       width=\"24px\">\n",
              "    <path d=\"M0 0h24v24H0V0z\" fill=\"none\"/>\n",
              "    <path d=\"M18.56 5.44l.94 2.06.94-2.06 2.06-.94-2.06-.94-.94-2.06-.94 2.06-2.06.94zm-11 1L8.5 8.5l.94-2.06 2.06-.94-2.06-.94L8.5 2.5l-.94 2.06-2.06.94zm10 10l.94 2.06.94-2.06 2.06-.94-2.06-.94-.94-2.06-.94 2.06-2.06.94z\"/><path d=\"M17.41 7.96l-1.37-1.37c-.4-.4-.92-.59-1.43-.59-.52 0-1.04.2-1.43.59L10.3 9.45l-7.72 7.72c-.78.78-.78 2.05 0 2.83L4 21.41c.39.39.9.59 1.41.59.51 0 1.02-.2 1.41-.59l7.78-7.78 2.81-2.81c.8-.78.8-2.07 0-2.86zM5.41 20L4 18.59l7.72-7.72 1.47 1.35L5.41 20z\"/>\n",
              "  </svg>\n",
              "      </button>\n",
              "      \n",
              "  <style>\n",
              "    .colab-df-container {\n",
              "      display:flex;\n",
              "      flex-wrap:wrap;\n",
              "      gap: 12px;\n",
              "    }\n",
              "\n",
              "    .colab-df-convert {\n",
              "      background-color: #E8F0FE;\n",
              "      border: none;\n",
              "      border-radius: 50%;\n",
              "      cursor: pointer;\n",
              "      display: none;\n",
              "      fill: #1967D2;\n",
              "      height: 32px;\n",
              "      padding: 0 0 0 0;\n",
              "      width: 32px;\n",
              "    }\n",
              "\n",
              "    .colab-df-convert:hover {\n",
              "      background-color: #E2EBFA;\n",
              "      box-shadow: 0px 1px 2px rgba(60, 64, 67, 0.3), 0px 1px 3px 1px rgba(60, 64, 67, 0.15);\n",
              "      fill: #174EA6;\n",
              "    }\n",
              "\n",
              "    [theme=dark] .colab-df-convert {\n",
              "      background-color: #3B4455;\n",
              "      fill: #D2E3FC;\n",
              "    }\n",
              "\n",
              "    [theme=dark] .colab-df-convert:hover {\n",
              "      background-color: #434B5C;\n",
              "      box-shadow: 0px 1px 3px 1px rgba(0, 0, 0, 0.15);\n",
              "      filter: drop-shadow(0px 1px 2px rgba(0, 0, 0, 0.3));\n",
              "      fill: #FFFFFF;\n",
              "    }\n",
              "  </style>\n",
              "\n",
              "      <script>\n",
              "        const buttonEl =\n",
              "          document.querySelector('#df-87a9d26c-caa5-46fd-a3e8-bf1ed1d6365f button.colab-df-convert');\n",
              "        buttonEl.style.display =\n",
              "          google.colab.kernel.accessAllowed ? 'block' : 'none';\n",
              "\n",
              "        async function convertToInteractive(key) {\n",
              "          const element = document.querySelector('#df-87a9d26c-caa5-46fd-a3e8-bf1ed1d6365f');\n",
              "          const dataTable =\n",
              "            await google.colab.kernel.invokeFunction('convertToInteractive',\n",
              "                                                     [key], {});\n",
              "          if (!dataTable) return;\n",
              "\n",
              "          const docLinkHtml = 'Like what you see? Visit the ' +\n",
              "            '<a target=\"_blank\" href=https://colab.research.google.com/notebooks/data_table.ipynb>data table notebook</a>'\n",
              "            + ' to learn more about interactive tables.';\n",
              "          element.innerHTML = '';\n",
              "          dataTable['output_type'] = 'display_data';\n",
              "          await google.colab.output.renderOutput(dataTable, element);\n",
              "          const docLink = document.createElement('div');\n",
              "          docLink.innerHTML = docLinkHtml;\n",
              "          element.appendChild(docLink);\n",
              "        }\n",
              "      </script>\n",
              "    </div>\n",
              "  </div>\n",
              "  "
            ]
          },
          "metadata": {},
          "execution_count": 226
        }
      ]
    },
    {
      "cell_type": "code",
      "source": [
        "#Visualizing \n",
        "product_grouping = all_data.groupby(\"Product\")\n",
        "\n",
        "quantity_ordered = product_grouping.sum()['Quantity Ordered']\n",
        "products = [product for product, df in product_grouping]\n",
        "plt.bar(products, quantity_ordered)\n",
        "\n",
        "plt.xticks(products, rotation=90)\n",
        "plt.xlabel('Products') # update x-axis label\n",
        "plt.ylabel('Quantity Ordered') # update y-axis label\n",
        "plt.title(\"Quantity Of Products Ordered\") #update title\n"
      ],
      "metadata": {
        "colab": {
          "base_uri": "https://localhost:8080/",
          "height": 454
        },
        "id": "qUrFRSSXwu4l",
        "outputId": "aa70c242-f37b-4781-bf5f-c592c478dfd3"
      },
      "execution_count": 219,
      "outputs": [
        {
          "output_type": "execute_result",
          "data": {
            "text/plain": [
              "Text(0.5, 1.0, 'Quantity Of Products Ordered')"
            ]
          },
          "metadata": {},
          "execution_count": 219
        },
        {
          "output_type": "display_data",
          "data": {
            "text/plain": [
              "<Figure size 432x288 with 1 Axes>"
            ],
            "image/png": "[encoded data removed]"
          },
          "metadata": {
            "needs_background": "light"
          }
        }
      ]
    },
    {
      "cell_type": "markdown",
      "source": [
        "This visualization shows that the top 5 most purchased products are;\n",
        "1. AAA Batteries (4-pack) \n",
        "2. AA Batteries (4-pack) \n",
        "3. USB-C Charging Cable \n",
        "4. Lightning Charging Cable \t\n",
        "5. Wired Headphones"
      ],
      "metadata": {
        "id": "OaaaRlzw5ege"
      }
    },
    {
      "cell_type": "code",
      "source": [
        "prices = all_data.groupby(\"Product\").mean()[\"Price Each\"]\n",
        "\n",
        "fig, ax1 = plt.subplots()\n",
        "\n",
        "ax2 = ax1.twinx()\n",
        "ax1.bar(products, quantity_ordered, color='green')\n",
        "ax2.plot(products, prices, 'b-')\n",
        "\n",
        "ax1.set_xlabel('Product Name')\n",
        "ax1.set_ylabel('Quantity Ordered', color='g')\n",
        "ax2.set_ylabel('Price ($)', color='b')\n",
        "ax1.set_xticklabels(products, rotation='vertical', size=8)\n",
        "\n",
        "\n",
        "plt.show()"
      ],
      "metadata": {
        "colab": {
          "base_uri": "https://localhost:8080/",
          "height": 391
        },
        "id": "FctwGOI31Sgx",
        "outputId": "1cb3f422-660a-4174-b267-37833332de6e"
      },
      "execution_count": 225,
      "outputs": [
        {
          "output_type": "display_data",
          "data": {
            "text/plain": [
              "<Figure size 432x288 with 2 Axes>"
            ],
            "image/png": "[encoded data removed]"
          },
          "metadata": {
            "needs_background": "light"
          }
        }
      ]
    },
    {
      "cell_type": "markdown",
      "source": [
        "This visualization confirms the reason behind the top 5 most purchased products being that they are listed at an affordable price."
      ],
      "metadata": {
        "id": "4RQ0TbdV51uq"
      }
    }
  ]
}